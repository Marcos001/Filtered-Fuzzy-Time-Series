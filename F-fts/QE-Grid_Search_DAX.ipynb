{
 "cells": [
  {
   "cell_type": "code",
   "execution_count": 1,
   "metadata": {},
   "outputs": [],
   "source": [
    "import numpy as np\n",
    "import pandas as pd\n",
    "from FTS import fts_util\n",
    "from PyEMD import EMD\n",
    "import seaborn as sns\n",
    "import matplotlib.pyplot as plt\n",
    "import warnings\n",
    "cores = sns.color_palette(n_colors=21)\n",
    "warnings.filterwarnings('ignore')"
   ]
  },
  {
   "cell_type": "markdown",
   "metadata": {},
   "source": [
    "## Grid Search DAX stock index time series"
   ]
  },
  {
   "cell_type": "code",
   "execution_count": 2,
   "metadata": {},
   "outputs": [
    {
     "data": {
      "text/plain": [
       "182"
      ]
     },
     "execution_count": 2,
     "metadata": {},
     "output_type": "execute_result"
    }
   ],
   "source": [
    "ts = pd.read_csv('data/GDAXI.csv', index_col=[0])\n",
    "ts.head()\n",
    "\n",
    "file_results = 'out/QE_GS_DAX.csv'\n",
    "col = 'Close' \n",
    "\n",
    "# apply EMD to get IMFs\n",
    "emd = EMD()\n",
    "imfs = emd.emd(ts[col].values)\n",
    "\n",
    "limite = ts[col].values.shape[0]\n",
    "limite"
   ]
  },
  {
   "cell_type": "code",
   "execution_count": 3,
   "metadata": {},
   "outputs": [],
   "source": [
    "df_fts = pd.DataFrame(ts[col].copy())\n",
    "df_fts[col] = ts.values\n",
    "df_fts.head()\n",
    "\n",
    "\n",
    "col_imf = '2_3_residue'\n",
    "df_fts[col_imf] = imfs[2]+imfs[3]+imfs[4]"
   ]
  },
  {
   "cell_type": "code",
   "execution_count": 4,
   "metadata": {},
   "outputs": [],
   "source": [
    "from FTS.Models.MV_Lee import STFMV_Convencional_Lee\n",
    "model = STFMV_Convencional_Lee()"
   ]
  },
  {
   "cell_type": "code",
   "execution_count": 5,
   "metadata": {},
   "outputs": [
    {
     "name": "stdout",
     "output_type": "stream",
     "text": [
      "CPU times: user 2 µs, sys: 5 µs, total: 7 µs\n",
      "Wall time: 4.29 µs\n"
     ]
    }
   ],
   "source": [
    "%time\n",
    "for k in range(2, limite):\n",
    "    # run model\n",
    "    model.fit(X=df_fts[[col, col_imf]].values, k=k)\n",
    "    mape, mae, mse, rmse, dtw = model.predict(plot=False, SM=False)\n",
    "    \n",
    "    # verify and save \n",
    "    experimento = {'IMF':col_imf, 'amount':k, 'MAPE':mape, 'MAE':mae, 'MSE':mse, 'RMSE':rmse, 'DTW':dtw}\n",
    "    fts_util.update_values_exp(experimento, key_words=['IMF','amount', 'MSE'], fp=file_results, log=False)"
   ]
  },
  {
   "cell_type": "code",
   "execution_count": 6,
   "metadata": {},
   "outputs": [
    {
     "data": {
      "text/html": [
       "<div>\n",
       "<style scoped>\n",
       "    .dataframe tbody tr th:only-of-type {\n",
       "        vertical-align: middle;\n",
       "    }\n",
       "\n",
       "    .dataframe tbody tr th {\n",
       "        vertical-align: top;\n",
       "    }\n",
       "\n",
       "    .dataframe thead th {\n",
       "        text-align: right;\n",
       "    }\n",
       "</style>\n",
       "<table border=\"1\" class=\"dataframe\">\n",
       "  <thead>\n",
       "    <tr style=\"text-align: right;\">\n",
       "      <th></th>\n",
       "      <th>IMF</th>\n",
       "      <th>MAPE</th>\n",
       "      <th>MAE</th>\n",
       "      <th>MSE</th>\n",
       "      <th>RMSE</th>\n",
       "      <th>DTW</th>\n",
       "    </tr>\n",
       "    <tr>\n",
       "      <th>amount</th>\n",
       "      <th></th>\n",
       "      <th></th>\n",
       "      <th></th>\n",
       "      <th></th>\n",
       "      <th></th>\n",
       "      <th></th>\n",
       "    </tr>\n",
       "  </thead>\n",
       "  <tbody>\n",
       "    <tr>\n",
       "      <th>2</th>\n",
       "      <td>2_3_residue</td>\n",
       "      <td>21.13</td>\n",
       "      <td>679.88</td>\n",
       "      <td>734390.12</td>\n",
       "      <td>856.97</td>\n",
       "      <td>122934.275327</td>\n",
       "    </tr>\n",
       "    <tr>\n",
       "      <th>3</th>\n",
       "      <td>2_3_residue</td>\n",
       "      <td>15.92</td>\n",
       "      <td>495.29</td>\n",
       "      <td>359922.74</td>\n",
       "      <td>599.94</td>\n",
       "      <td>85751.861642</td>\n",
       "    </tr>\n",
       "    <tr>\n",
       "      <th>4</th>\n",
       "      <td>2_3_residue</td>\n",
       "      <td>12.21</td>\n",
       "      <td>361.88</td>\n",
       "      <td>197681.69</td>\n",
       "      <td>444.61</td>\n",
       "      <td>63525.538799</td>\n",
       "    </tr>\n",
       "    <tr>\n",
       "      <th>5</th>\n",
       "      <td>2_3_residue</td>\n",
       "      <td>9.61</td>\n",
       "      <td>303.92</td>\n",
       "      <td>145007.89</td>\n",
       "      <td>380.80</td>\n",
       "      <td>52325.844705</td>\n",
       "    </tr>\n",
       "    <tr>\n",
       "      <th>6</th>\n",
       "      <td>2_3_residue</td>\n",
       "      <td>6.86</td>\n",
       "      <td>246.63</td>\n",
       "      <td>110692.96</td>\n",
       "      <td>332.71</td>\n",
       "      <td>42872.360883</td>\n",
       "    </tr>\n",
       "    <tr>\n",
       "      <th>...</th>\n",
       "      <td>...</td>\n",
       "      <td>...</td>\n",
       "      <td>...</td>\n",
       "      <td>...</td>\n",
       "      <td>...</td>\n",
       "      <td>...</td>\n",
       "    </tr>\n",
       "    <tr>\n",
       "      <th>177</th>\n",
       "      <td>2_3_residue</td>\n",
       "      <td>0.12</td>\n",
       "      <td>3.41</td>\n",
       "      <td>526.03</td>\n",
       "      <td>22.94</td>\n",
       "      <td>616.814856</td>\n",
       "    </tr>\n",
       "    <tr>\n",
       "      <th>178</th>\n",
       "      <td>2_3_residue</td>\n",
       "      <td>0.17</td>\n",
       "      <td>4.35</td>\n",
       "      <td>663.72</td>\n",
       "      <td>25.76</td>\n",
       "      <td>654.374797</td>\n",
       "    </tr>\n",
       "    <tr>\n",
       "      <th>179</th>\n",
       "      <td>2_3_residue</td>\n",
       "      <td>0.12</td>\n",
       "      <td>3.20</td>\n",
       "      <td>535.37</td>\n",
       "      <td>23.14</td>\n",
       "      <td>576.237360</td>\n",
       "    </tr>\n",
       "    <tr>\n",
       "      <th>180</th>\n",
       "      <td>2_3_residue</td>\n",
       "      <td>0.06</td>\n",
       "      <td>2.65</td>\n",
       "      <td>522.44</td>\n",
       "      <td>22.86</td>\n",
       "      <td>425.670453</td>\n",
       "    </tr>\n",
       "    <tr>\n",
       "      <th>181</th>\n",
       "      <td>2_3_residue</td>\n",
       "      <td>0.05</td>\n",
       "      <td>2.38</td>\n",
       "      <td>515.98</td>\n",
       "      <td>22.72</td>\n",
       "      <td>375.678842</td>\n",
       "    </tr>\n",
       "  </tbody>\n",
       "</table>\n",
       "<p>453 rows × 6 columns</p>\n",
       "</div>"
      ],
      "text/plain": [
       "                IMF   MAPE     MAE        MSE    RMSE            DTW\n",
       "amount                                                              \n",
       "2       2_3_residue  21.13  679.88  734390.12  856.97  122934.275327\n",
       "3       2_3_residue  15.92  495.29  359922.74  599.94   85751.861642\n",
       "4       2_3_residue  12.21  361.88  197681.69  444.61   63525.538799\n",
       "5       2_3_residue   9.61  303.92  145007.89  380.80   52325.844705\n",
       "6       2_3_residue   6.86  246.63  110692.96  332.71   42872.360883\n",
       "...             ...    ...     ...        ...     ...            ...\n",
       "177     2_3_residue   0.12    3.41     526.03   22.94     616.814856\n",
       "178     2_3_residue   0.17    4.35     663.72   25.76     654.374797\n",
       "179     2_3_residue   0.12    3.20     535.37   23.14     576.237360\n",
       "180     2_3_residue   0.06    2.65     522.44   22.86     425.670453\n",
       "181     2_3_residue   0.05    2.38     515.98   22.72     375.678842\n",
       "\n",
       "[453 rows x 6 columns]"
      ]
     },
     "execution_count": 6,
     "metadata": {},
     "output_type": "execute_result"
    }
   ],
   "source": [
    "df_view = pd.read_csv(file_results, index_col=['amount'])\n",
    "df_view"
   ]
  },
  {
   "cell_type": "code",
   "execution_count": 7,
   "metadata": {},
   "outputs": [
    {
     "data": {
      "image/png": "[encoded data removed]",
      "text/plain": [
       "<Figure size 720x288 with 1 Axes>"
      ]
     },
     "metadata": {},
     "output_type": "display_data"
    }
   ],
   "source": [
    "best = fts_util.best_GS(df_view, 'MSE')\n",
    "\n",
    "plt.figure(figsize=(10,4))\n",
    "plt.plot(best.index.values[0], best['MSE'].values[0], '-mo', markersize=15)\n",
    "plt.title('Best Amount: {} and MSE: {}'.format(best.index.values[0], best['MSE'].values[0]))\n",
    "plt.plot(df_view['MSE'], 'o')\n",
    "# for i in range(df_view.shape[0]):\n",
    "#     plt.annotate(df_view.index[i], (df_view.index[i], df_view['MSE'].iloc[i]))\n",
    "plt.show()"
   ]
  },
  {
   "cell_type": "code",
   "execution_count": null,
   "metadata": {},
   "outputs": [],
   "source": []
  }
 ],
 "metadata": {
  "kernelspec": {
   "display_name": "Python 3 (ipykernel)",
   "language": "python",
   "name": "python3"
  },
  "language_info": {
   "codemirror_mode": {
    "name": "ipython",
    "version": 3
   },
   "file_extension": ".py",
   "mimetype": "text/x-python",
   "name": "python",
   "nbconvert_exporter": "python",
   "pygments_lexer": "ipython3",
   "version": "3.9.7"
  }
 },
 "nbformat": 4,
 "nbformat_minor": 4
}
