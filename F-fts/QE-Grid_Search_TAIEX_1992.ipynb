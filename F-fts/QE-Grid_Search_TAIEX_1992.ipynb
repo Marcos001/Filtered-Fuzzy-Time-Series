{
 "cells": [
  {
   "cell_type": "code",
   "execution_count": 1,
   "metadata": {},
   "outputs": [],
   "source": [
    "import numpy as np\n",
    "import pandas as pd\n",
    "from FTS import fts_util\n",
    "from PyEMD import EMD\n",
    "import seaborn as sns\n",
    "import matplotlib.pyplot as plt\n",
    "import warnings\n",
    "cores = sns.color_palette(n_colors=21)\n",
    "warnings.filterwarnings('ignore')"
   ]
  },
  {
   "cell_type": "markdown",
   "metadata": {},
   "source": [
    "## Grid Search in TAIEX Time Series"
   ]
  },
  {
   "cell_type": "code",
   "execution_count": 2,
   "metadata": {},
   "outputs": [],
   "source": [
    "# read tsfcm_labels\n",
    "ts = pd.read_csv('data/TAIEX_1992.csv', index_col=[0], parse_dates=[0])\n",
    "col = ts.keys().to_list()[0]\n",
    "\n",
    "file_results = 'out/QE_GS_TAIEX_1992.csv'\n",
    "\n",
    "# apply EMD to get IMFs\n",
    "emd = EMD()\n",
    "imfs = emd.emd(ts[col].values)\n",
    "\n",
    "ts[col].values.shape\n",
    "\n",
    "limite = ts[col].values.shape[0]"
   ]
  },
  {
   "cell_type": "code",
   "execution_count": 3,
   "metadata": {},
   "outputs": [],
   "source": [
    "#fts_util.plot_imfs(ala[col].values, imfs, fs=(20,15))\n",
    "\n",
    "''' Select MFIs without trending and noise behavior '''\n",
    "\n",
    "df_fts = pd.DataFrame(ts[col].copy())\n",
    "df_fts[col] = ts\n",
    "\n",
    "col_imf = '2+3+residue'\n",
    "df_fts[col_imf] = imfs[2]+imfs[3]+imfs[4]"
   ]
  },
  {
   "cell_type": "code",
   "execution_count": 4,
   "metadata": {},
   "outputs": [],
   "source": [
    "from FTS.Models.MV_Lee import STFMV_Convencional_Lee\n",
    "model = STFMV_Convencional_Lee()"
   ]
  },
  {
   "cell_type": "code",
   "execution_count": 5,
   "metadata": {},
   "outputs": [],
   "source": [
    "for k in range(2, limite):\n",
    "    # run model\n",
    "    model.fit(X=df_fts[[col, col_imf]].values, k=k)\n",
    "    mape, mae, mse, rmse, dtw = model.predict(plot=False, SM=False)\n",
    "    \n",
    "    # verify and save \n",
    "    experimento = {'IMF':col_imf, 'amount':k, 'MAPE':mape, 'MAE':mae, 'MSE':mse, 'RMSE':rmse, 'DTW':dtw}\n",
    "    fts_util.update_values_exp(experimento, key_words=['IMF','amount', 'MSE'], fp=file_results, log=False)"
   ]
  },
  {
   "cell_type": "code",
   "execution_count": 6,
   "metadata": {},
   "outputs": [
    {
     "data": {
      "text/html": [
       "<div>\n",
       "<style scoped>\n",
       "    .dataframe tbody tr th:only-of-type {\n",
       "        vertical-align: middle;\n",
       "    }\n",
       "\n",
       "    .dataframe tbody tr th {\n",
       "        vertical-align: top;\n",
       "    }\n",
       "\n",
       "    .dataframe thead th {\n",
       "        text-align: right;\n",
       "    }\n",
       "</style>\n",
       "<table border=\"1\" class=\"dataframe\">\n",
       "  <thead>\n",
       "    <tr style=\"text-align: right;\">\n",
       "      <th></th>\n",
       "      <th>IMF</th>\n",
       "      <th>MAPE</th>\n",
       "      <th>MAE</th>\n",
       "      <th>MSE</th>\n",
       "      <th>RMSE</th>\n",
       "      <th>DTW</th>\n",
       "    </tr>\n",
       "    <tr>\n",
       "      <th>amount</th>\n",
       "      <th></th>\n",
       "      <th></th>\n",
       "      <th></th>\n",
       "      <th></th>\n",
       "      <th></th>\n",
       "      <th></th>\n",
       "    </tr>\n",
       "  </thead>\n",
       "  <tbody>\n",
       "    <tr>\n",
       "      <th>2</th>\n",
       "      <td>2+3+residue</td>\n",
       "      <td>4.50</td>\n",
       "      <td>195.91</td>\n",
       "      <td>58126.60</td>\n",
       "      <td>241.09</td>\n",
       "      <td>54855.609067</td>\n",
       "    </tr>\n",
       "    <tr>\n",
       "      <th>3</th>\n",
       "      <td>2+3+residue</td>\n",
       "      <td>3.03</td>\n",
       "      <td>128.05</td>\n",
       "      <td>27737.99</td>\n",
       "      <td>166.55</td>\n",
       "      <td>35193.902575</td>\n",
       "    </tr>\n",
       "    <tr>\n",
       "      <th>4</th>\n",
       "      <td>2+3+residue</td>\n",
       "      <td>2.39</td>\n",
       "      <td>101.61</td>\n",
       "      <td>17198.26</td>\n",
       "      <td>131.14</td>\n",
       "      <td>27482.029791</td>\n",
       "    </tr>\n",
       "    <tr>\n",
       "      <th>5</th>\n",
       "      <td>2+3+residue</td>\n",
       "      <td>2.06</td>\n",
       "      <td>86.49</td>\n",
       "      <td>11931.18</td>\n",
       "      <td>109.23</td>\n",
       "      <td>23411.670551</td>\n",
       "    </tr>\n",
       "    <tr>\n",
       "      <th>6</th>\n",
       "      <td>2+3+residue</td>\n",
       "      <td>1.76</td>\n",
       "      <td>75.50</td>\n",
       "      <td>10114.64</td>\n",
       "      <td>100.57</td>\n",
       "      <td>19397.670773</td>\n",
       "    </tr>\n",
       "    <tr>\n",
       "      <th>...</th>\n",
       "      <td>...</td>\n",
       "      <td>...</td>\n",
       "      <td>...</td>\n",
       "      <td>...</td>\n",
       "      <td>...</td>\n",
       "      <td>...</td>\n",
       "    </tr>\n",
       "    <tr>\n",
       "      <th>276</th>\n",
       "      <td>2+3+residue</td>\n",
       "      <td>0.04</td>\n",
       "      <td>1.30</td>\n",
       "      <td>79.12</td>\n",
       "      <td>8.89</td>\n",
       "      <td>190.149874</td>\n",
       "    </tr>\n",
       "    <tr>\n",
       "      <th>277</th>\n",
       "      <td>2+3+residue</td>\n",
       "      <td>0.02</td>\n",
       "      <td>0.82</td>\n",
       "      <td>46.02</td>\n",
       "      <td>6.78</td>\n",
       "      <td>132.735843</td>\n",
       "    </tr>\n",
       "    <tr>\n",
       "      <th>278</th>\n",
       "      <td>2+3+residue</td>\n",
       "      <td>0.02</td>\n",
       "      <td>0.87</td>\n",
       "      <td>47.53</td>\n",
       "      <td>6.89</td>\n",
       "      <td>147.034406</td>\n",
       "    </tr>\n",
       "    <tr>\n",
       "      <th>279</th>\n",
       "      <td>2+3+residue</td>\n",
       "      <td>0.02</td>\n",
       "      <td>0.76</td>\n",
       "      <td>45.76</td>\n",
       "      <td>6.76</td>\n",
       "      <td>115.679852</td>\n",
       "    </tr>\n",
       "    <tr>\n",
       "      <th>280</th>\n",
       "      <td>2+3+residue</td>\n",
       "      <td>0.01</td>\n",
       "      <td>0.60</td>\n",
       "      <td>36.58</td>\n",
       "      <td>6.05</td>\n",
       "      <td>123.062313</td>\n",
       "    </tr>\n",
       "  </tbody>\n",
       "</table>\n",
       "<p>934 rows × 6 columns</p>\n",
       "</div>"
      ],
      "text/plain": [
       "                IMF  MAPE     MAE       MSE    RMSE           DTW\n",
       "amount                                                           \n",
       "2       2+3+residue  4.50  195.91  58126.60  241.09  54855.609067\n",
       "3       2+3+residue  3.03  128.05  27737.99  166.55  35193.902575\n",
       "4       2+3+residue  2.39  101.61  17198.26  131.14  27482.029791\n",
       "5       2+3+residue  2.06   86.49  11931.18  109.23  23411.670551\n",
       "6       2+3+residue  1.76   75.50  10114.64  100.57  19397.670773\n",
       "...             ...   ...     ...       ...     ...           ...\n",
       "276     2+3+residue  0.04    1.30     79.12    8.89    190.149874\n",
       "277     2+3+residue  0.02    0.82     46.02    6.78    132.735843\n",
       "278     2+3+residue  0.02    0.87     47.53    6.89    147.034406\n",
       "279     2+3+residue  0.02    0.76     45.76    6.76    115.679852\n",
       "280     2+3+residue  0.01    0.60     36.58    6.05    123.062313\n",
       "\n",
       "[934 rows x 6 columns]"
      ]
     },
     "execution_count": 6,
     "metadata": {},
     "output_type": "execute_result"
    }
   ],
   "source": [
    "df_view = pd.read_csv(file_results, index_col=['amount'])\n",
    "df_view"
   ]
  },
  {
   "cell_type": "code",
   "execution_count": 7,
   "metadata": {},
   "outputs": [
    {
     "data": {
      "image/png": "[encoded data removed]",
      "text/plain": [
       "<Figure size 720x288 with 1 Axes>"
      ]
     },
     "metadata": {},
     "output_type": "display_data"
    }
   ],
   "source": [
    "best = fts_util.best_GS(df_view, 'MSE')\n",
    "\n",
    "plt.figure(figsize=(10,4))\n",
    "plt.plot(best.index.values[0], best['MSE'].values[0], '-mo', markersize=15)\n",
    "plt.title('Best Amount: {} and MSE: {}'.format(best.index.values[0], best['MSE'].values[0]))\n",
    "plt.plot(df_view['MSE'], 'o')\n",
    "# for i in range(df_view.shape[0]):\n",
    "#     plt.annotate(df_view.index[i], (df_view.index[i], df_view['MSE'].iloc[i]))\n",
    "plt.show()"
   ]
  },
  {
   "cell_type": "code",
   "execution_count": null,
   "metadata": {},
   "outputs": [],
   "source": []
  }
 ],
 "metadata": {
  "kernelspec": {
   "display_name": "Python 3 (ipykernel)",
   "language": "python",
   "name": "python3"
  },
  "language_info": {
   "codemirror_mode": {
    "name": "ipython",
    "version": 3
   },
   "file_extension": ".py",
   "mimetype": "text/x-python",
   "name": "python",
   "nbconvert_exporter": "python",
   "pygments_lexer": "ipython3",
   "version": "3.9.7"
  }
 },
 "nbformat": 4,
 "nbformat_minor": 4
}
