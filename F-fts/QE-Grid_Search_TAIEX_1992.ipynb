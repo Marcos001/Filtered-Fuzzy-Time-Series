{
 "cells": [
  {
   "cell_type": "code",
   "execution_count": 1,
   "metadata": {},
   "outputs": [],
   "source": [
    "import numpy as np\n",
    "import pandas as pd\n",
    "from FTS import fts_util\n",
    "from PyEMD import EMD\n",
    "import seaborn as sns\n",
    "import matplotlib.pyplot as plt\n",
    "import warnings\n",
    "cores = sns.color_palette(n_colors=21)\n",
    "warnings.filterwarnings('ignore')"
   ]
  },
  {
   "cell_type": "markdown",
   "metadata": {},
   "source": [
    "## Grid Search in TAIEX Time Series"
   ]
  },
  {
   "cell_type": "code",
   "execution_count": 2,
   "metadata": {},
   "outputs": [],
   "source": [
    "# read tsfcm_labels\n",
    "ts = pd.read_csv('data/TAIEX_1992.csv', index_col=[0], parse_dates=[0])\n",
    "col = ts.keys().to_list()[0]\n",
    "\n",
    "file_results = 'out/QE_GS_TAIEX_1992.csv'\n",
    "\n",
    "# apply EMD to get IMFs\n",
    "emd = EMD()\n",
    "imfs = emd.emd(ts[col].values)\n",
    "\n",
    "ts[col].values.shape\n",
    "\n",
    "limite = ts[col].values.shape[0]"
   ]
  },
  {
   "cell_type": "code",
   "execution_count": 3,
   "metadata": {},
   "outputs": [],
   "source": [
    "#fts_util.plot_imfs(ala[col].values, imfs, fs=(20,15))\n",
    "\n",
    "''' Select MFIs without trending and noise behavior '''\n",
    "\n",
    "df_fts = pd.DataFrame(ts[col].copy())\n",
    "df_fts[col] = ts\n",
    "\n",
    "col_imf = '2+3+residue'\n",
    "df_fts[col_imf] = imfs[2]+imfs[3]+imfs[4]"
   ]
  },
  {
   "cell_type": "code",
   "execution_count": 4,
   "metadata": {},
   "outputs": [],
   "source": [
    "from FTS.Models.MV_Lee import STFMV_Convencional_Lee\n",
    "model = STFMV_Convencional_Lee()"
   ]
  },
  {
   "cell_type": "code",
   "execution_count": null,
   "metadata": {},
   "outputs": [
    {
     "name": "stderr",
     "output_type": "stream",
     "text": [
      "WARNING:absl:No GPU/TPU found, falling back to CPU. (Set TF_CPP_MIN_LOG_LEVEL=0 and rerun for more info.)\n"
     ]
    }
   ],
   "source": [
    "for k in range(2, limite):\n",
    "    # run model\n",
    "    model.fit(X=df_fts[[col, col_imf]].values, k=k)\n",
    "    mape, mae, mse, rmse, dtw = model.predict(plot=False, SM=False)\n",
    "    \n",
    "    # verify and save \n",
    "    experimento = {'IMF':col_imf, 'amount':k, 'MAPE':mape, 'MAE':mae, 'MSE':mse, 'RMSE':rmse, 'DTW':dtw}\n",
    "    fts_util.update_values_exp(experimento, key_words=['IMF','amount', 'MSE'], fp=file_results, log=False)"
   ]
  },
  {
   "cell_type": "code",
   "execution_count": null,
   "metadata": {},
   "outputs": [],
   "source": [
    "df_view = pd.read_csv(file_results, index_col=['amount'])\n",
    "df_view"
   ]
  },
  {
   "cell_type": "code",
   "execution_count": null,
   "metadata": {},
   "outputs": [],
   "source": [
    "best = fts_util.best_GS(df_view, 'MSE')\n",
    "\n",
    "plt.figure(figsize=(10,4))\n",
    "plt.plot(best.index.values[0], best['MSE'].values[0], '-mo', markersize=15)\n",
    "plt.title('Best Amount: {} and MSE: {}'.format(best.index.values[0], best['MSE'].values[0]))\n",
    "plt.plot(df_view['MSE'], '-')\n",
    "# for i in range(df_view.shape[0]):\n",
    "#     plt.annotate(df_view.index[i], (df_view.index[i], df_view['MSE'].iloc[i]))\n",
    "plt.show()"
   ]
  },
  {
   "cell_type": "code",
   "execution_count": null,
   "metadata": {},
   "outputs": [],
   "source": []
  }
 ],
 "metadata": {
  "kernelspec": {
   "display_name": "Python 3 (ipykernel)",
   "language": "python",
   "name": "python3"
  },
  "language_info": {
   "codemirror_mode": {
    "name": "ipython",
    "version": 3
   },
   "file_extension": ".py",
   "mimetype": "text/x-python",
   "name": "python",
   "nbconvert_exporter": "python",
   "pygments_lexer": "ipython3",
   "version": "3.9.7"
  }
 },
 "nbformat": 4,
 "nbformat_minor": 4
}
